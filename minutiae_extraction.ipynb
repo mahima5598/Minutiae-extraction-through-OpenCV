{
 "cells": [
  {
   "cell_type": "code",
   "execution_count": 3,
   "metadata": {},
   "outputs": [
    {
     "data": {
      "text/plain": [
       "True"
      ]
     },
     "execution_count": 3,
     "metadata": {},
     "output_type": "execute_result"
    }
   ],
   "source": [
    "#enhancement\n",
    "import cv2\n",
    "import numpy as np\n",
    "img = cv2.imread('C:\\\\Users\\\\dchhagani\\\\Downloads\\\\Image processing\\\\DB1_B\\\\101_1.tif',0)\n",
    "equ = cv2.equalizeHist(img)\n",
    "res = np.hstack((img,equ)) #stacking images side-by-side\n",
    "cv2.imwrite('res.tif',res)"
   ]
  },
  {
   "cell_type": "code",
   "execution_count": null,
   "metadata": {},
   "outputs": [],
   "source": [
    "#binarization\n",
    "import cv2\n",
    "import numpy as np\n",
    "img2 = cv2.imread('C:\\\\Users\\\\dchhagani\\\\Downloads\\\\Image processing\\\\res.tif')\n",
    "grayscaled = cv2.cvtColor(img2,cv2.COLOR_BGR2GRAY)\n",
    "th = cv2.adaptiveThreshold(grayscaled, 255, cv2.ADAPTIVE_THRESH_GAUSSIAN_C, cv2.THRESH_BINARY, 115, 1)\n",
    "bin_thresh = (th == 0).astype(int)\n",
    "cv2.imwrite('img2.tif',img2)\n",
    "cv2.imshow('C:\\\\Users\\\\dchhagani\\\\Downloads\\\\Image processing\\\\res.tif',img2)\n",
    "cv2.imshow('Adaptive threshold',th)\n",
    "cv2.waitKey(0)\n",
    "cv2.destroyAllWindows()\n",
    "\n"
   ]
  },
  {
   "cell_type": "code",
   "execution_count": null,
   "metadata": {},
   "outputs": [],
   "source": [
    "#Thinning\n",
    "# make a copy of the binary threshold array, upon which we will apply\n",
    "# the thinning algorithm\n",
    "thinned_thresh = bin_thresh.copy()\n",
    "x=1\n",
    "# if the thinned threshold reaches a steady state, we'll break out of the loop\n",
    "while x>0:\n",
    "    # make a copy of the thinned threshold array to check for changes\n",
    "    thresh_copy = thinned_thresh.copy()\n",
    "    # step one\n",
    "    pixels_meeting_criteria = []\n",
    "    # check all pixels except for border and corner pixels\n",
    "    # if a pixel meets all criteria, add it to pixels_meeting_criteria list\n",
    "    for i in range(1, thinned_thresh.shape[0] - 1):\n",
    "        for j in range(1, thinned_thresh.shape[1] - 1):\n",
    "            if (pixel_is_black(thinned_thresh, i, j) and\n",
    "                pixel_has_2_to_6_black_neighbors(thinned_thresh, i, j) and\n",
    "                pixel_has_1_white_to_black_neighbor_transition(thinned_thresh, i, j) and\n",
    "                at_least_one_of_P2_P4_P6_is_white(thinned_thresh, i, j) and\n",
    "                at_least_one_of_P4_P6_P8_is_white(thinned_thresh, i, j)):\n",
    "                pixels_meeting_criteria.append((i, j))\n",
    "\n",
    "    # change noted pixels in thinned threshold array to 0 (white)\n",
    "    for pixel in pixels_meeting_criteria:\n",
    "        thinned_thresh[pixel] = 0\n",
    "\n",
    "    # step two\n",
    "    pixels_meeting_criteria = []\n",
    "    # check all pixels except for border and corner pixels \n",
    "    # if a pixel meets all criteria, add it to pixels_meeting_criteria list\n",
    "    for i in range(1, thinned_thresh.shape[0] - 1):\n",
    "        for j in range(1, thinned_thresh.shape[1] - 1):\n",
    "            if (pixel_is_black(thinned_thresh, i, j) and\n",
    "                pixel_has_2_to_6_black_neighbors(thinned_thresh, i, j) and\n",
    "                pixel_has_1_white_to_black_neighbor_transition(thinned_thresh, i, j) and\n",
    "                at_least_one_of_P2_P4_P8_is_white(thinned_thresh, i, j) and\n",
    "                at_least_one_of_P2_P6_P8_is_white(thinned_thresh, i, j)):\n",
    "                pixels_meeting_criteria.append((i, j))\n",
    "\n",
    "    # change noted pixels in thinned threshold array to 0 (white)\n",
    "    for pixel in pixels_meeting_criteria:\n",
    "        thinned_thresh[pixel] = 0\n",
    "    x=x-1\n",
    "    # if the latest iteration didn't make any difference, exit loop\n",
    "    if np.all(thresh_copy == thinned_thresh) == True:\n",
    "        break\n",
    "\n",
    "# convert all ones (black pixels) to zeroes, and all zeroes (white pixels) to ones\n",
    "thresh = (thinned_thresh == 0).astype(np.uint8)\n",
    "# convert ones to 255 (white)\n",
    "thresh *= 255\n",
    "\n",
    "# display original and thinned images\n",
    "cv2.imwrite('thin.tif',thresh)\n",
    "cv2.imshow('original image', th)\n",
    "cv2.imshow('thinned image', thresh)\n",
    "cv2.waitKey(0)\n",
    "cv2.destroyAllWindows()"
   ]
  }
 ],
 "metadata": {
  "kernelspec": {
   "display_name": "Python 3",
   "language": "python",
   "name": "python3"
  },
  "language_info": {
   "codemirror_mode": {
    "name": "ipython",
    "version": 3
   },
   "file_extension": ".py",
   "mimetype": "text/x-python",
   "name": "python",
   "nbconvert_exporter": "python",
   "pygments_lexer": "ipython3",
   "version": "3.7.1"
  }
 },
 "nbformat": 4,
 "nbformat_minor": 2
}
